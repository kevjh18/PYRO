{
 "cells": [
  {
   "cell_type": "markdown",
   "metadata": {},
   "source": [
    "## Econ 412\n",
    "### UCLA, Master of Quantitative Economics\n",
    "#### Dr. Randall R. Rojas"
   ]
  },
  {
   "cell_type": "markdown",
   "metadata": {},
   "source": [
    "# Linear Model Selection and Regularization"
   ]
  },
  {
   "cell_type": "markdown",
   "metadata": {},
   "source": [
    "## I. Examples of Ridge, LASSO, and Elastic Nets"
   ]
  },
  {
   "cell_type": "markdown",
   "metadata": {},
   "source": [
    "## Ridge Example\n",
    "Example adapted from  [J. Warmenhoven](https://github.com/JWarmenhoven/ISLR-python)."
   ]
  },
  {
   "cell_type": "code",
   "execution_count": 1,
   "metadata": {},
   "outputs": [],
   "source": [
    "import pandas as pd\n",
    "import numpy as np\n",
    "import matplotlib.pyplot as plt\n",
    "import seaborn as sns\n",
    "\n",
    "import glmnet as gln\n",
    "\n",
    "# pip install glmnet\n",
    "# Note: This is a wrapper for R's glmnet\n",
    "\n",
    "from sklearn.preprocessing import scale \n",
    "from sklearn import model_selection\n",
    "from sklearn.linear_model import LinearRegression, Ridge, RidgeCV, Lasso, LassoCV, ElasticNet, ElasticNetCV  \n",
    "from sklearn.decomposition import PCA\n",
    "from sklearn.cross_decomposition import PLSRegression\n",
    "from sklearn.model_selection import KFold, cross_val_score\n",
    "from sklearn.metrics import mean_squared_error\n",
    "\n",
    "%matplotlib inline\n",
    "plt.style.use('seaborn-white')"
   ]
  },
  {
   "cell_type": "code",
   "execution_count": 2,
   "metadata": {},
   "outputs": [
    {
     "name": "stdout",
     "output_type": "stream",
     "text": [
      "<class 'pandas.core.frame.DataFrame'>\n",
      "Int64Index: 263 entries, 1 to 321\n",
      "Data columns (total 20 columns):\n",
      " #   Column     Non-Null Count  Dtype  \n",
      "---  ------     --------------  -----  \n",
      " 0   AtBat      263 non-null    int64  \n",
      " 1   Hits       263 non-null    int64  \n",
      " 2   HmRun      263 non-null    int64  \n",
      " 3   Runs       263 non-null    int64  \n",
      " 4   RBI        263 non-null    int64  \n",
      " 5   Walks      263 non-null    int64  \n",
      " 6   Years      263 non-null    int64  \n",
      " 7   CAtBat     263 non-null    int64  \n",
      " 8   CHits      263 non-null    int64  \n",
      " 9   CHmRun     263 non-null    int64  \n",
      " 10  CRuns      263 non-null    int64  \n",
      " 11  CRBI       263 non-null    int64  \n",
      " 12  CWalks     263 non-null    int64  \n",
      " 13  League     263 non-null    object \n",
      " 14  Division   263 non-null    object \n",
      " 15  PutOuts    263 non-null    int64  \n",
      " 16  Assists    263 non-null    int64  \n",
      " 17  Errors     263 non-null    int64  \n",
      " 18  Salary     263 non-null    float64\n",
      " 19  NewLeague  263 non-null    object \n",
      "dtypes: float64(1), int64(16), object(3)\n",
      "memory usage: 43.1+ KB\n"
     ]
    }
   ],
   "source": [
    "# Load Baseball players dataset\n",
    "df = pd.read_csv('Data/Hitters.csv').dropna()\n",
    "df.index.name = 'Player'\n",
    "df.info()"
   ]
  },
  {
   "cell_type": "markdown",
   "metadata": {},
   "source": [
    "###  (a)  Data exploration/partioning"
   ]
  },
  {
   "cell_type": "code",
   "execution_count": 3,
   "metadata": {},
   "outputs": [
    {
     "data": {
      "text/html": [
       "<div>\n",
       "<style scoped>\n",
       "    .dataframe tbody tr th:only-of-type {\n",
       "        vertical-align: middle;\n",
       "    }\n",
       "\n",
       "    .dataframe tbody tr th {\n",
       "        vertical-align: top;\n",
       "    }\n",
       "\n",
       "    .dataframe thead th {\n",
       "        text-align: right;\n",
       "    }\n",
       "</style>\n",
       "<table border=\"1\" class=\"dataframe\">\n",
       "  <thead>\n",
       "    <tr style=\"text-align: right;\">\n",
       "      <th></th>\n",
       "      <th>AtBat</th>\n",
       "      <th>Hits</th>\n",
       "      <th>HmRun</th>\n",
       "      <th>Runs</th>\n",
       "      <th>RBI</th>\n",
       "      <th>Walks</th>\n",
       "      <th>Years</th>\n",
       "      <th>CAtBat</th>\n",
       "      <th>CHits</th>\n",
       "      <th>CHmRun</th>\n",
       "      <th>CRuns</th>\n",
       "      <th>CRBI</th>\n",
       "      <th>CWalks</th>\n",
       "      <th>League</th>\n",
       "      <th>Division</th>\n",
       "      <th>PutOuts</th>\n",
       "      <th>Assists</th>\n",
       "      <th>Errors</th>\n",
       "      <th>Salary</th>\n",
       "      <th>NewLeague</th>\n",
       "    </tr>\n",
       "    <tr>\n",
       "      <th>Player</th>\n",
       "      <th></th>\n",
       "      <th></th>\n",
       "      <th></th>\n",
       "      <th></th>\n",
       "      <th></th>\n",
       "      <th></th>\n",
       "      <th></th>\n",
       "      <th></th>\n",
       "      <th></th>\n",
       "      <th></th>\n",
       "      <th></th>\n",
       "      <th></th>\n",
       "      <th></th>\n",
       "      <th></th>\n",
       "      <th></th>\n",
       "      <th></th>\n",
       "      <th></th>\n",
       "      <th></th>\n",
       "      <th></th>\n",
       "      <th></th>\n",
       "    </tr>\n",
       "  </thead>\n",
       "  <tbody>\n",
       "    <tr>\n",
       "      <th>1</th>\n",
       "      <td>315</td>\n",
       "      <td>81</td>\n",
       "      <td>7</td>\n",
       "      <td>24</td>\n",
       "      <td>38</td>\n",
       "      <td>39</td>\n",
       "      <td>14</td>\n",
       "      <td>3449</td>\n",
       "      <td>835</td>\n",
       "      <td>69</td>\n",
       "      <td>321</td>\n",
       "      <td>414</td>\n",
       "      <td>375</td>\n",
       "      <td>N</td>\n",
       "      <td>W</td>\n",
       "      <td>632</td>\n",
       "      <td>43</td>\n",
       "      <td>10</td>\n",
       "      <td>475.0</td>\n",
       "      <td>N</td>\n",
       "    </tr>\n",
       "    <tr>\n",
       "      <th>2</th>\n",
       "      <td>479</td>\n",
       "      <td>130</td>\n",
       "      <td>18</td>\n",
       "      <td>66</td>\n",
       "      <td>72</td>\n",
       "      <td>76</td>\n",
       "      <td>3</td>\n",
       "      <td>1624</td>\n",
       "      <td>457</td>\n",
       "      <td>63</td>\n",
       "      <td>224</td>\n",
       "      <td>266</td>\n",
       "      <td>263</td>\n",
       "      <td>A</td>\n",
       "      <td>W</td>\n",
       "      <td>880</td>\n",
       "      <td>82</td>\n",
       "      <td>14</td>\n",
       "      <td>480.0</td>\n",
       "      <td>A</td>\n",
       "    </tr>\n",
       "    <tr>\n",
       "      <th>3</th>\n",
       "      <td>496</td>\n",
       "      <td>141</td>\n",
       "      <td>20</td>\n",
       "      <td>65</td>\n",
       "      <td>78</td>\n",
       "      <td>37</td>\n",
       "      <td>11</td>\n",
       "      <td>5628</td>\n",
       "      <td>1575</td>\n",
       "      <td>225</td>\n",
       "      <td>828</td>\n",
       "      <td>838</td>\n",
       "      <td>354</td>\n",
       "      <td>N</td>\n",
       "      <td>E</td>\n",
       "      <td>200</td>\n",
       "      <td>11</td>\n",
       "      <td>3</td>\n",
       "      <td>500.0</td>\n",
       "      <td>N</td>\n",
       "    </tr>\n",
       "    <tr>\n",
       "      <th>4</th>\n",
       "      <td>321</td>\n",
       "      <td>87</td>\n",
       "      <td>10</td>\n",
       "      <td>39</td>\n",
       "      <td>42</td>\n",
       "      <td>30</td>\n",
       "      <td>2</td>\n",
       "      <td>396</td>\n",
       "      <td>101</td>\n",
       "      <td>12</td>\n",
       "      <td>48</td>\n",
       "      <td>46</td>\n",
       "      <td>33</td>\n",
       "      <td>N</td>\n",
       "      <td>E</td>\n",
       "      <td>805</td>\n",
       "      <td>40</td>\n",
       "      <td>4</td>\n",
       "      <td>91.5</td>\n",
       "      <td>N</td>\n",
       "    </tr>\n",
       "    <tr>\n",
       "      <th>5</th>\n",
       "      <td>594</td>\n",
       "      <td>169</td>\n",
       "      <td>4</td>\n",
       "      <td>74</td>\n",
       "      <td>51</td>\n",
       "      <td>35</td>\n",
       "      <td>11</td>\n",
       "      <td>4408</td>\n",
       "      <td>1133</td>\n",
       "      <td>19</td>\n",
       "      <td>501</td>\n",
       "      <td>336</td>\n",
       "      <td>194</td>\n",
       "      <td>A</td>\n",
       "      <td>W</td>\n",
       "      <td>282</td>\n",
       "      <td>421</td>\n",
       "      <td>25</td>\n",
       "      <td>750.0</td>\n",
       "      <td>A</td>\n",
       "    </tr>\n",
       "  </tbody>\n",
       "</table>\n",
       "</div>"
      ],
      "text/plain": [
       "        AtBat  Hits  HmRun  Runs  RBI  Walks  Years  CAtBat  CHits  CHmRun  \\\n",
       "Player                                                                       \n",
       "1         315    81      7    24   38     39     14    3449    835      69   \n",
       "2         479   130     18    66   72     76      3    1624    457      63   \n",
       "3         496   141     20    65   78     37     11    5628   1575     225   \n",
       "4         321    87     10    39   42     30      2     396    101      12   \n",
       "5         594   169      4    74   51     35     11    4408   1133      19   \n",
       "\n",
       "        CRuns  CRBI  CWalks League Division  PutOuts  Assists  Errors  Salary  \\\n",
       "Player                                                                          \n",
       "1         321   414     375      N        W      632       43      10   475.0   \n",
       "2         224   266     263      A        W      880       82      14   480.0   \n",
       "3         828   838     354      N        E      200       11       3   500.0   \n",
       "4          48    46      33      N        E      805       40       4    91.5   \n",
       "5         501   336     194      A        W      282      421      25   750.0   \n",
       "\n",
       "       NewLeague  \n",
       "Player            \n",
       "1              N  \n",
       "2              A  \n",
       "3              N  \n",
       "4              N  \n",
       "5              A  "
      ]
     },
     "execution_count": 3,
     "metadata": {},
     "output_type": "execute_result"
    }
   ],
   "source": [
    "df.head()"
   ]
  },
  {
   "cell_type": "code",
   "execution_count": 4,
   "metadata": {},
   "outputs": [
    {
     "name": "stdout",
     "output_type": "stream",
     "text": [
      "<class 'pandas.core.frame.DataFrame'>\n",
      "Int64Index: 263 entries, 1 to 321\n",
      "Data columns (total 6 columns):\n",
      " #   Column       Non-Null Count  Dtype\n",
      "---  ------       --------------  -----\n",
      " 0   League_A     263 non-null    uint8\n",
      " 1   League_N     263 non-null    uint8\n",
      " 2   Division_E   263 non-null    uint8\n",
      " 3   Division_W   263 non-null    uint8\n",
      " 4   NewLeague_A  263 non-null    uint8\n",
      " 5   NewLeague_N  263 non-null    uint8\n",
      "dtypes: uint8(6)\n",
      "memory usage: 3.6 KB\n",
      "        League_A  League_N  Division_E  Division_W  NewLeague_A  NewLeague_N\n",
      "Player                                                                      \n",
      "1              0         1           0           1            0            1\n",
      "2              1         0           0           1            1            0\n",
      "3              0         1           1           0            0            1\n",
      "4              0         1           1           0            0            1\n",
      "5              1         0           0           1            1            0\n"
     ]
    }
   ],
   "source": [
    "# Note: The variables League, Division, and NewLeague have 'strings' as their values, therefore, \n",
    "# we'll convert them to dummy variables with  1, 0 \n",
    "dummies = pd.get_dummies(df[['League', 'Division', 'NewLeague']])\n",
    "dummies.info()\n",
    "print(dummies.head())"
   ]
  },
  {
   "cell_type": "code",
   "execution_count": 5,
   "metadata": {},
   "outputs": [
    {
     "name": "stdout",
     "output_type": "stream",
     "text": [
      "<class 'pandas.core.frame.DataFrame'>\n",
      "Int64Index: 263 entries, 1 to 321\n",
      "Data columns (total 19 columns):\n",
      " #   Column       Non-Null Count  Dtype  \n",
      "---  ------       --------------  -----  \n",
      " 0   AtBat        263 non-null    float64\n",
      " 1   Hits         263 non-null    float64\n",
      " 2   HmRun        263 non-null    float64\n",
      " 3   Runs         263 non-null    float64\n",
      " 4   RBI          263 non-null    float64\n",
      " 5   Walks        263 non-null    float64\n",
      " 6   Years        263 non-null    float64\n",
      " 7   CAtBat       263 non-null    float64\n",
      " 8   CHits        263 non-null    float64\n",
      " 9   CHmRun       263 non-null    float64\n",
      " 10  CRuns        263 non-null    float64\n",
      " 11  CRBI         263 non-null    float64\n",
      " 12  CWalks       263 non-null    float64\n",
      " 13  PutOuts      263 non-null    float64\n",
      " 14  Assists      263 non-null    float64\n",
      " 15  Errors       263 non-null    float64\n",
      " 16  League_N     263 non-null    uint8  \n",
      " 17  Division_W   263 non-null    uint8  \n",
      " 18  NewLeague_N  263 non-null    uint8  \n",
      "dtypes: float64(16), uint8(3)\n",
      "memory usage: 35.7 KB\n"
     ]
    }
   ],
   "source": [
    "y = df.Salary\n",
    "\n",
    "# Drop the column with the independent variable (Salary), and columns for which we created dummy variables\n",
    "X_ = df.drop(['Salary', 'League', 'Division', 'NewLeague'], axis=1).astype('float64')\n",
    "# Define the feature set X.\n",
    "X = pd.concat([X_, dummies[['League_N', 'Division_W', 'NewLeague_N']]], axis=1)\n",
    "X.info()"
   ]
  },
  {
   "cell_type": "code",
   "execution_count": 6,
   "metadata": {},
   "outputs": [
    {
     "data": {
      "text/html": [
       "<div>\n",
       "<style scoped>\n",
       "    .dataframe tbody tr th:only-of-type {\n",
       "        vertical-align: middle;\n",
       "    }\n",
       "\n",
       "    .dataframe tbody tr th {\n",
       "        vertical-align: top;\n",
       "    }\n",
       "\n",
       "    .dataframe thead th {\n",
       "        text-align: right;\n",
       "    }\n",
       "</style>\n",
       "<table border=\"1\" class=\"dataframe\">\n",
       "  <thead>\n",
       "    <tr style=\"text-align: right;\">\n",
       "      <th></th>\n",
       "      <th>AtBat</th>\n",
       "      <th>Hits</th>\n",
       "      <th>HmRun</th>\n",
       "      <th>Runs</th>\n",
       "      <th>RBI</th>\n",
       "      <th>Walks</th>\n",
       "      <th>Years</th>\n",
       "      <th>CAtBat</th>\n",
       "      <th>CHits</th>\n",
       "      <th>CHmRun</th>\n",
       "      <th>CRuns</th>\n",
       "      <th>CRBI</th>\n",
       "      <th>CWalks</th>\n",
       "      <th>PutOuts</th>\n",
       "      <th>Assists</th>\n",
       "      <th>Errors</th>\n",
       "      <th>League_N</th>\n",
       "      <th>Division_W</th>\n",
       "      <th>NewLeague_N</th>\n",
       "    </tr>\n",
       "    <tr>\n",
       "      <th>Player</th>\n",
       "      <th></th>\n",
       "      <th></th>\n",
       "      <th></th>\n",
       "      <th></th>\n",
       "      <th></th>\n",
       "      <th></th>\n",
       "      <th></th>\n",
       "      <th></th>\n",
       "      <th></th>\n",
       "      <th></th>\n",
       "      <th></th>\n",
       "      <th></th>\n",
       "      <th></th>\n",
       "      <th></th>\n",
       "      <th></th>\n",
       "      <th></th>\n",
       "      <th></th>\n",
       "      <th></th>\n",
       "      <th></th>\n",
       "    </tr>\n",
       "  </thead>\n",
       "  <tbody>\n",
       "    <tr>\n",
       "      <th>1</th>\n",
       "      <td>315.0</td>\n",
       "      <td>81.0</td>\n",
       "      <td>7.0</td>\n",
       "      <td>24.0</td>\n",
       "      <td>38.0</td>\n",
       "      <td>39.0</td>\n",
       "      <td>14.0</td>\n",
       "      <td>3449.0</td>\n",
       "      <td>835.0</td>\n",
       "      <td>69.0</td>\n",
       "      <td>321.0</td>\n",
       "      <td>414.0</td>\n",
       "      <td>375.0</td>\n",
       "      <td>632.0</td>\n",
       "      <td>43.0</td>\n",
       "      <td>10.0</td>\n",
       "      <td>1</td>\n",
       "      <td>1</td>\n",
       "      <td>1</td>\n",
       "    </tr>\n",
       "    <tr>\n",
       "      <th>2</th>\n",
       "      <td>479.0</td>\n",
       "      <td>130.0</td>\n",
       "      <td>18.0</td>\n",
       "      <td>66.0</td>\n",
       "      <td>72.0</td>\n",
       "      <td>76.0</td>\n",
       "      <td>3.0</td>\n",
       "      <td>1624.0</td>\n",
       "      <td>457.0</td>\n",
       "      <td>63.0</td>\n",
       "      <td>224.0</td>\n",
       "      <td>266.0</td>\n",
       "      <td>263.0</td>\n",
       "      <td>880.0</td>\n",
       "      <td>82.0</td>\n",
       "      <td>14.0</td>\n",
       "      <td>0</td>\n",
       "      <td>1</td>\n",
       "      <td>0</td>\n",
       "    </tr>\n",
       "    <tr>\n",
       "      <th>3</th>\n",
       "      <td>496.0</td>\n",
       "      <td>141.0</td>\n",
       "      <td>20.0</td>\n",
       "      <td>65.0</td>\n",
       "      <td>78.0</td>\n",
       "      <td>37.0</td>\n",
       "      <td>11.0</td>\n",
       "      <td>5628.0</td>\n",
       "      <td>1575.0</td>\n",
       "      <td>225.0</td>\n",
       "      <td>828.0</td>\n",
       "      <td>838.0</td>\n",
       "      <td>354.0</td>\n",
       "      <td>200.0</td>\n",
       "      <td>11.0</td>\n",
       "      <td>3.0</td>\n",
       "      <td>1</td>\n",
       "      <td>0</td>\n",
       "      <td>1</td>\n",
       "    </tr>\n",
       "    <tr>\n",
       "      <th>4</th>\n",
       "      <td>321.0</td>\n",
       "      <td>87.0</td>\n",
       "      <td>10.0</td>\n",
       "      <td>39.0</td>\n",
       "      <td>42.0</td>\n",
       "      <td>30.0</td>\n",
       "      <td>2.0</td>\n",
       "      <td>396.0</td>\n",
       "      <td>101.0</td>\n",
       "      <td>12.0</td>\n",
       "      <td>48.0</td>\n",
       "      <td>46.0</td>\n",
       "      <td>33.0</td>\n",
       "      <td>805.0</td>\n",
       "      <td>40.0</td>\n",
       "      <td>4.0</td>\n",
       "      <td>1</td>\n",
       "      <td>0</td>\n",
       "      <td>1</td>\n",
       "    </tr>\n",
       "    <tr>\n",
       "      <th>5</th>\n",
       "      <td>594.0</td>\n",
       "      <td>169.0</td>\n",
       "      <td>4.0</td>\n",
       "      <td>74.0</td>\n",
       "      <td>51.0</td>\n",
       "      <td>35.0</td>\n",
       "      <td>11.0</td>\n",
       "      <td>4408.0</td>\n",
       "      <td>1133.0</td>\n",
       "      <td>19.0</td>\n",
       "      <td>501.0</td>\n",
       "      <td>336.0</td>\n",
       "      <td>194.0</td>\n",
       "      <td>282.0</td>\n",
       "      <td>421.0</td>\n",
       "      <td>25.0</td>\n",
       "      <td>0</td>\n",
       "      <td>1</td>\n",
       "      <td>0</td>\n",
       "    </tr>\n",
       "  </tbody>\n",
       "</table>\n",
       "</div>"
      ],
      "text/plain": [
       "        AtBat   Hits  HmRun  Runs   RBI  Walks  Years  CAtBat   CHits  CHmRun  \\\n",
       "Player                                                                          \n",
       "1       315.0   81.0    7.0  24.0  38.0   39.0   14.0  3449.0   835.0    69.0   \n",
       "2       479.0  130.0   18.0  66.0  72.0   76.0    3.0  1624.0   457.0    63.0   \n",
       "3       496.0  141.0   20.0  65.0  78.0   37.0   11.0  5628.0  1575.0   225.0   \n",
       "4       321.0   87.0   10.0  39.0  42.0   30.0    2.0   396.0   101.0    12.0   \n",
       "5       594.0  169.0    4.0  74.0  51.0   35.0   11.0  4408.0  1133.0    19.0   \n",
       "\n",
       "        CRuns   CRBI  CWalks  PutOuts  Assists  Errors  League_N  Division_W  \\\n",
       "Player                                                                         \n",
       "1       321.0  414.0   375.0    632.0     43.0    10.0         1           1   \n",
       "2       224.0  266.0   263.0    880.0     82.0    14.0         0           1   \n",
       "3       828.0  838.0   354.0    200.0     11.0     3.0         1           0   \n",
       "4        48.0   46.0    33.0    805.0     40.0     4.0         1           0   \n",
       "5       501.0  336.0   194.0    282.0    421.0    25.0         0           1   \n",
       "\n",
       "        NewLeague_N  \n",
       "Player               \n",
       "1                 1  \n",
       "2                 0  \n",
       "3                 1  \n",
       "4                 1  \n",
       "5                 0  "
      ]
     },
     "execution_count": 6,
     "metadata": {},
     "output_type": "execute_result"
    }
   ],
   "source": [
    "# Verify the feature space (predictors)\n",
    "X.head(5)"
   ]
  },
  {
   "cell_type": "code",
   "execution_count": 7,
   "metadata": {},
   "outputs": [],
   "source": [
    "# Note: These were exported from R to better match the textbook results\n",
    "X_train = pd.read_csv('Data/Hitters_X_train.csv',index_col=0)\n",
    "y_train = pd.read_csv('Data/Hitters_y_train.csv', index_col=0)\n",
    "X_test = pd.read_csv('Data/Hitters_X_test.csv', index_col=0)\n",
    "y_test = pd.read_csv('Data/Hitters_y_test.csv', index_col=0)\n",
    "\n",
    "# Alternatively you do:\n",
    "#from sklearn.model_selection import train_test_split\n",
    "#X_train, X_test, y_train, y_test = train_test_split(X, y, test_size=0.3, random_state=10)"
   ]
  },
  {
   "cell_type": "markdown",
   "metadata": {},
   "source": [
    "### (b)  Fit a Ridge model (using sklearn)\n",
    "Note: R's `glmnet` uses the penalty factor  $\\frac{\\lambda}{2}|\\beta|^2$ but sklearn uses $\\frac{\\alpha}{N}|\\beta|^2$, hence the use of $\\alpha$ below. "
   ]
  },
  {
   "cell_type": "code",
   "execution_count": 8,
   "metadata": {},
   "outputs": [
    {
     "data": {
      "image/png": "[encoded data removed]",
      "text/plain": [
       "<Figure size 504x504 with 1 Axes>"
      ]
     },
     "metadata": {},
     "output_type": "display_data"
    }
   ],
   "source": [
    "# Generate different values of alpha to fit different Ridge models\n",
    "alphas = 10**np.linspace(10,-2,100)*0.5\n",
    "\n",
    "ridge = Ridge()\n",
    "coefs = []\n",
    " \n",
    "for a in alphas:\n",
    "    ridge.set_params(alpha=a)\n",
    "    ridge.fit(scale(X), y)\n",
    "    coefs.append(ridge.coef_)\n",
    "\n",
    "plt.figure(figsize=(7, 7))\n",
    "ax = plt.gca()\n",
    "ax.plot(alphas, coefs)\n",
    "ax.set_xscale('log')\n",
    "#ax.set_xlim(ax.get_xlim()[::-1])  # reverse axis\n",
    "plt.axis('tight')\n",
    "plt.xlabel('alpha')\n",
    "plt.ylabel('weights')\n",
    "plt.title('Ridge coefficients as a function of the regularization');"
   ]
  },
  {
   "cell_type": "code",
   "execution_count": 9,
   "metadata": {},
   "outputs": [],
   "source": [
    "from sklearn.preprocessing import StandardScaler\n",
    "scaler = StandardScaler().fit(X_train)"
   ]
  },
  {
   "cell_type": "code",
   "execution_count": 10,
   "metadata": {},
   "outputs": [
    {
     "name": "stdout",
     "output_type": "stream",
     "text": [
      "MSE =  97383.68965102118\n"
     ]
    },
    {
     "data": {
      "text/plain": [
       "AtBat         -161.784058\n",
       "Hits           118.911404\n",
       "HmRun           52.645719\n",
       "Runs           -43.295947\n",
       "RBI             37.339573\n",
       "Walks          138.214992\n",
       "Years         -106.916784\n",
       "CAtBat         -21.080864\n",
       "CHits          115.933862\n",
       "CHmRun         -17.949420\n",
       "CRuns          239.723217\n",
       "CRBI           -17.945273\n",
       "CWalks         -59.754770\n",
       "PutOuts         21.752383\n",
       "Assists        -68.676906\n",
       "Errors          89.610291\n",
       "League_N        31.048268\n",
       "Division_W     -13.553466\n",
       "NewLeague_N      4.350305\n",
       "dtype: float64"
      ]
     },
     "execution_count": 10,
     "metadata": {},
     "output_type": "execute_result"
    }
   ],
   "source": [
    "# Example, set alpha = 4 hard set\n",
    "ridge2 = Ridge(alpha=4)\n",
    "ridge2.fit(scaler.transform(X_train), y_train)\n",
    "pred = ridge2.predict(scaler.transform(X_test))\n",
    "print('MSE = ', mean_squared_error(y_test, pred))\n",
    "pd.Series(ridge2.coef_.flatten(), index=X.columns)"
   ]
  },
  {
   "cell_type": "code",
   "execution_count": 11,
   "metadata": {},
   "outputs": [
    {
     "name": "stdout",
     "output_type": "stream",
     "text": [
      "MSE =  193253.09707951872\n"
     ]
    },
    {
     "data": {
      "text/plain": [
       "AtBat          2.291553e-06\n",
       "Hits           2.428111e-06\n",
       "HmRun          2.051677e-06\n",
       "Runs           2.372252e-06\n",
       "RBI            2.538921e-06\n",
       "Walks          2.974270e-06\n",
       "Years          1.572334e-06\n",
       "CAtBat         2.507043e-06\n",
       "CHits          2.666936e-06\n",
       "CHmRun         2.280416e-06\n",
       "CRuns          2.839982e-06\n",
       "CRBI           2.526355e-06\n",
       "CWalks         2.544939e-06\n",
       "PutOuts        4.880225e-07\n",
       "Assists       -1.149268e-06\n",
       "Errors         2.067779e-06\n",
       "League_N       5.324293e-07\n",
       "Division_W     5.051366e-07\n",
       "NewLeague_N    5.291999e-07\n",
       "dtype: float64"
      ]
     },
     "execution_count": 11,
     "metadata": {},
     "output_type": "execute_result"
    }
   ],
   "source": [
    "# Example, set alpha = 10^10 seems like overkill\n",
    "# The larger the value of alpha the greater the number of coeffs -->0\n",
    "# With  this large  value, all the coeffs -->0\n",
    "ridge2 = Ridge(alpha=10**10)\n",
    "ridge2.fit(scaler.transform(X_train), y_train)\n",
    "pred = ridge2.predict(scaler.transform(X_test))\n",
    "print('MSE = ', mean_squared_error(y_test, pred))\n",
    "pd.Series(ridge2.coef_.flatten(), index=X.columns)"
   ]
  },
  {
   "cell_type": "markdown",
   "metadata": {},
   "source": [
    "### (c) Compute the regularization path using RidgeCV\n",
    "Rather than figuring out what $\\alpha$ to use, we can do so automatically via CV."
   ]
  },
  {
   "cell_type": "code",
   "execution_count": 12,
   "metadata": {},
   "outputs": [
    {
     "name": "stdout",
     "output_type": "stream",
     "text": [
      "Ridge alpha = 115.5064850041579\n"
     ]
    }
   ],
   "source": [
    "# Perform CV and figure out the best lambda, best way to get alpha\n",
    "ridgecv = RidgeCV(alphas=alphas, scoring='neg_mean_squared_error')\n",
    "ridgecv.fit(scale(X_train), y_train)\n",
    "print('Ridge alpha =', ridgecv.alpha_)"
   ]
  },
  {
   "cell_type": "code",
   "execution_count": 13,
   "metadata": {},
   "outputs": [
    {
     "name": "stdout",
     "output_type": "stream",
     "text": [
      "MSE =  97384.92959172589\n"
     ]
    },
    {
     "data": {
      "text/plain": [
       "AtBat           7.576771\n",
       "Hits           22.596030\n",
       "HmRun          18.971990\n",
       "Runs           20.193945\n",
       "RBI            21.063875\n",
       "Walks          55.713281\n",
       "Years          -4.687149\n",
       "CAtBat         20.496892\n",
       "CHits          29.230247\n",
       "CHmRun         14.293124\n",
       "CRuns          35.881788\n",
       "CRBI           20.212172\n",
       "CWalks         24.419768\n",
       "PutOuts        16.128910\n",
       "Assists       -44.102264\n",
       "Errors         54.624503\n",
       "League_N        5.771464\n",
       "Division_W     -0.293713\n",
       "NewLeague_N    11.137518\n",
       "dtype: float64"
      ]
     },
     "execution_count": 13,
     "metadata": {},
     "output_type": "execute_result"
    }
   ],
   "source": [
    "# Estimate the Ridge Model using the alpha above\n",
    "ridge2.set_params(alpha=ridgecv.alpha_)\n",
    "ridge2.fit(scale(X_train), y_train)\n",
    "mean_squared_error(y_test, ridge2.predict(scale(X_test)))\n",
    "print('MSE = ', mean_squared_error(y_test, ridge2.predict(scale(X_test))))\n",
    "pd.Series(ridge2.coef_.flatten(), index=X.columns)"
   ]
  },
  {
   "cell_type": "markdown",
   "metadata": {},
   "source": [
    "### (c) Fit a Ridge model (using glmnet)\n",
    "Note: `glmnet` was created in R, and has all sorts of helpful diagnostics worth exploring. Python's version has some limited functionality."
   ]
  },
  {
   "cell_type": "code",
   "execution_count": 14,
   "metadata": {},
   "outputs": [
    {
     "data": {
      "text/plain": [
       "ElasticNet(alpha=0,\n",
       "           lambda_path=array([1.00000000e+10, 7.56463328e+09, 5.72236766e+09, 4.32876128e+09,\n",
       "       3.27454916e+09, 2.47707636e+09, 1.87381742e+09, 1.41747416e+09,\n",
       "       1.07226722e+09, 8.11130831e+08, 6.13590727e+08, 4.64158883e+08,\n",
       "       3.51119173e+08, 2.65608778e+08, 2.00923300e+08, 1.51991108e+08,\n",
       "       1.14975700e+08, 8.69749003e+07, 6.57933225e+07, 4.97702356e+07,\n",
       "       3.76493581e+...\n",
       "       6.13590727e+00, 4.64158883e+00, 3.51119173e+00, 2.65608778e+00,\n",
       "       2.00923300e+00, 1.51991108e+00, 1.14975700e+00, 8.69749003e-01,\n",
       "       6.57933225e-01, 4.97702356e-01, 3.76493581e-01, 2.84803587e-01,\n",
       "       2.15443469e-01, 1.62975083e-01, 1.23284674e-01, 9.32603347e-02,\n",
       "       7.05480231e-02, 5.33669923e-02, 4.03701726e-02, 3.05385551e-02,\n",
       "       2.31012970e-02, 1.74752840e-02, 1.32194115e-02, 1.00000000e-02]))"
      ]
     },
     "execution_count": 14,
     "metadata": {},
     "output_type": "execute_result"
    }
   ],
   "source": [
    "# Generate different values of lambda to fit different Ridge models\n",
    "grid = 10**np.linspace(10,-2,100)\n",
    "\n",
    "# Fit the Ridge model for all choices of lambda\n",
    "# Note: Recall that Ridge  = Elastic Net w/ alpha = 0\n",
    "ridge3 = gln.ElasticNet(alpha=0, lambda_path=grid)\n",
    "ridge3.fit(X, y)"
   ]
  },
  {
   "cell_type": "code",
   "execution_count": 15,
   "metadata": {},
   "outputs": [
    {
     "data": {
      "text/plain": [
       "array([705.48023107])"
      ]
     },
     "execution_count": 15,
     "metadata": {},
     "output_type": "execute_result"
    }
   ],
   "source": [
    "# To find the best choice of lambda, we can use ridge3.lambda_best_ or ridge3.lambda_max_\n",
    "ridge3.lambda_best_"
   ]
  },
  {
   "cell_type": "code",
   "execution_count": 16,
   "metadata": {},
   "outputs": [
    {
     "name": "stdout",
     "output_type": "stream",
     "text": [
      "Intercept: 407.356\n"
     ]
    },
    {
     "data": {
      "text/plain": [
       "AtBat          0.037\n",
       "Hits           0.138\n",
       "HmRun          0.525\n",
       "Runs           0.231\n",
       "RBI            0.240\n",
       "Walks          0.290\n",
       "Years          1.108\n",
       "CAtBat         0.003\n",
       "CHits          0.012\n",
       "CHmRun         0.088\n",
       "CRuns          0.023\n",
       "CRBI           0.024\n",
       "CWalks         0.025\n",
       "PutOuts        0.016\n",
       "Assists        0.003\n",
       "Errors        -0.021\n",
       "League_N       0.085\n",
       "Division_W    -6.215\n",
       "NewLeague_N    0.301\n",
       "dtype: float64"
      ]
     },
     "execution_count": 16,
     "metadata": {},
     "output_type": "execute_result"
    }
   ],
   "source": [
    "#  Look at the estimates for a particular path (in this case 49)\n",
    "ridge3.lambda_path_[49]\n",
    "print('Intercept: {:.3f}'.format(ridge3.intercept_path_[49]))\n",
    "pd.Series(np.round(ridge3.coef_path_[:,49], decimals=3), index=X.columns)\n",
    "#  the predict() method does not give you the regression coefficients for lambda values not in the lambda_path. "
   ]
  },
  {
   "cell_type": "code",
   "execution_count": 17,
   "metadata": {},
   "outputs": [
    {
     "name": "stdout",
     "output_type": "stream",
     "text": [
      "MSE =  101036.83230892863\n"
     ]
    }
   ],
   "source": [
    "# Example using lambda = 4\n",
    "ridge4 = gln.ElasticNet(alpha=0, lambda_path=grid, scoring='mean_squared_error', tol=1e-12)\n",
    "ridge4.fit(X_train, y_train.values.ravel())\n",
    "# prediction using lambda = 4\n",
    "pred = ridge4.predict(X_test, lamb=4)\n",
    "print('MSE = ', mean_squared_error(y_test.values.ravel(), pred))"
   ]
  },
  {
   "cell_type": "markdown",
   "metadata": {},
   "source": [
    "### Choose  $\\lambda$ via CV"
   ]
  },
  {
   "cell_type": "code",
   "execution_count": 18,
   "metadata": {},
   "outputs": [
    {
     "name": "stdout",
     "output_type": "stream",
     "text": [
      "lambda max = 589.1835375713937\n",
      "lambda best = [1639.43819209]\n"
     ]
    },
    {
     "data": {
      "image/png": "[encoded data removed]",
      "text/plain": [
       "<Figure size 1080x432 with 1 Axes>"
      ]
     },
     "metadata": {},
     "output_type": "display_data"
    }
   ],
   "source": [
    "ridge5 = gln.ElasticNet(alpha=0, scoring='mean_squared_error')\n",
    "ridge5.fit(X_train, y_train.values.ravel())\n",
    "# Lambda with best CV performance\n",
    "print('lambda max =',ridge5.lambda_max_ )\n",
    "\n",
    "# Lambda larger than lambda_max_, but with a CV score that is within 1 standard deviation away from lambda_max_ \n",
    "print('lambda best =',ridge5.lambda_best_)\n",
    "\n",
    "plt.figure(figsize=(15,6))\n",
    "plt.errorbar(np.log(ridge5.lambda_path_), -ridge5.cv_mean_score_, color='r', linestyle='None', marker='o',\n",
    "             markersize=5, yerr=ridge5.cv_standard_error_, ecolor='lightgrey', capsize=4)\n",
    "\n",
    "for ref, txt in zip([ridge5.lambda_best_, ridge5.lambda_max_], ['Lambda best', 'Lambda max']):\n",
    "    plt.axvline(x=np.log(ref), linestyle='dashed', color='lightgrey')\n",
    "    plt.text(np.log(ref), .95*plt.gca().get_ylim()[1], txt, ha='center')\n",
    "\n",
    "plt.xlabel('log(Lambda)')\n",
    "plt.ylabel('Mean-Squared Error');"
   ]
  },
  {
   "cell_type": "code",
   "execution_count": 19,
   "metadata": {},
   "outputs": [
    {
     "name": "stdout",
     "output_type": "stream",
     "text": [
      "MSE =  98403.24355011512\n"
     ]
    }
   ],
   "source": [
    "# MSE for lambda with best CV performance\n",
    "pred = ridge5.predict(X_test, lamb=ridge5.lambda_max_)\n",
    "print('MSE = ',mean_squared_error(y_test, pred))"
   ]
  },
  {
   "cell_type": "code",
   "execution_count": 20,
   "metadata": {},
   "outputs": [
    {
     "data": {
      "text/plain": [
       "AtBat           -0.681594\n",
       "Hits             2.772311\n",
       "HmRun           -1.365704\n",
       "Runs             1.014812\n",
       "RBI              0.713030\n",
       "Walks            3.378558\n",
       "Years           -9.066826\n",
       "CAtBat          -0.001200\n",
       "CHits            0.136102\n",
       "CHmRun           0.697992\n",
       "CRuns            0.295890\n",
       "CRBI             0.257072\n",
       "CWalks          -0.278966\n",
       "PutOuts          0.263887\n",
       "Assists          0.169878\n",
       "Errors          -3.685656\n",
       "League_N        53.209503\n",
       "Division_W    -122.834334\n",
       "NewLeague_N    -18.102528\n",
       "dtype: float64"
      ]
     },
     "execution_count": 20,
     "metadata": {},
     "output_type": "execute_result"
    }
   ],
   "source": [
    "# Fit model to entire dataset\n",
    "ridge6= gln.ElasticNet(alpha=0, scoring='mean_squared_error', n_splits=10)\n",
    "ridge6.fit(X, y)\n",
    "# These are not really close to the ones in the book.\n",
    "pd.Series(ridge6.coef_path_[:,ridge6.lambda_max_inx_], index=X.columns)"
   ]
  },
  {
   "cell_type": "markdown",
   "metadata": {},
   "source": [
    "## $\\color{blue}{\\text{Simple Ridge (almost automatic) Estimate}}$"
   ]
  },
  {
   "cell_type": "code",
   "execution_count": 21,
   "metadata": {},
   "outputs": [
    {
     "name": "stdout",
     "output_type": "stream",
     "text": [
      "[(array([  7.57677107,  22.5960297 ,  18.97199036,  20.19394492,\n",
      "        21.063875  ,  55.71328133,  -4.68714918,  20.49689187,\n",
      "        29.23024691,  14.29312413,  35.88178784,  20.21217197,\n",
      "        24.4197681 ,  16.12890973, -44.10226357,  54.62450342,\n",
      "         5.77146366,  -0.29371336,  11.13751806]), 'AtBat')]\n",
      "R^2 Training Set 39.15\n",
      "R^2 Test Set 49.46\n"
     ]
    }
   ],
   "source": [
    "# Step 1: Use CV to get the best alpha\n",
    "ridgecv = RidgeCV(alphas=alphas, scoring='neg_mean_squared_error')\n",
    "ridgecv.fit(scale(X_train), y_train)\n",
    "\n",
    "# Step 2: Estimate the model w/ best alpha\n",
    "ridge_best = Ridge(alpha=ridgecv.alpha_)\n",
    "ridge_best.fit(scale(X_train), y_train)\n",
    "\n",
    "# Step 3: Print model estimates\n",
    "print(list(zip(ridge_best.coef_, X)))\n",
    "\n",
    "# Step 4: Print Error Metrics\n",
    "print('R^2 Training Set', round(ridge_best.score(scale(X_train), y_train)*100, 2))\n",
    "print('R^2 Test Set', round(ridge_best.score(scale(X_test), y_test)*100, 2))"
   ]
  },
  {
   "cell_type": "markdown",
   "metadata": {},
   "source": [
    "## LASSO Example\n",
    "Example adapted from  [J. Warmenhoven](https://github.com/JWarmenhoven/ISLR-python)."
   ]
  },
  {
   "cell_type": "markdown",
   "metadata": {},
   "source": [
    "### (a) Fit a LASSO model (using sklearn)"
   ]
  },
  {
   "cell_type": "code",
   "execution_count": 22,
   "metadata": {},
   "outputs": [
    {
     "data": {
      "image/png": "[encoded data removed]",
      "text/plain": [
       "<Figure size 504x504 with 1 Axes>"
      ]
     },
     "metadata": {},
     "output_type": "display_data"
    }
   ],
   "source": [
    "# Generate different values of alpha to fit different Ridge models\n",
    "lasso = Lasso(max_iter=10000)\n",
    "coefs = []\n",
    "\n",
    "for a in alphas*2:\n",
    "    lasso.set_params(alpha=a)\n",
    "    lasso.fit(scale(X_train), y_train)\n",
    "    coefs.append(lasso.coef_)\n",
    "plt.figure(figsize=(7, 7))\n",
    "ax = plt.gca()\n",
    "ax.plot(alphas*2, coefs)\n",
    "ax.set_xscale('log')\n",
    "ax.set_xlim(ax.get_xlim()[::-1])  # reverse axis\n",
    "plt.axis('tight')\n",
    "plt.xlabel('alpha')\n",
    "plt.ylabel('weights')\n",
    "plt.title('Lasso coefficients as a function of the regularization');"
   ]
  },
  {
   "cell_type": "markdown",
   "metadata": {},
   "source": [
    "### (b) Choose  $\\lambda$ via CV"
   ]
  },
  {
   "cell_type": "code",
   "execution_count": 23,
   "metadata": {},
   "outputs": [
    {
     "data": {
      "text/plain": [
       "LassoCV(cv=10, max_iter=10000)"
      ]
     },
     "execution_count": 23,
     "metadata": {},
     "output_type": "execute_result"
    }
   ],
   "source": [
    "lassocv = LassoCV(alphas=None, cv=10, max_iter=10000)\n",
    "lassocv.fit(scale(X_train), y_train.values.ravel())"
   ]
  },
  {
   "cell_type": "code",
   "execution_count": 24,
   "metadata": {},
   "outputs": [
    {
     "data": {
      "text/plain": [
       "30.01382256446427"
      ]
     },
     "execution_count": 24,
     "metadata": {},
     "output_type": "execute_result"
    }
   ],
   "source": [
    "lassocv.alpha_"
   ]
  },
  {
   "cell_type": "code",
   "execution_count": 25,
   "metadata": {},
   "outputs": [
    {
     "name": "stdout",
     "output_type": "stream",
     "text": [
      "MSE =  102924.90954696966\n"
     ]
    }
   ],
   "source": [
    "lasso.set_params(alpha=lassocv.alpha_)\n",
    "lasso.fit(scale(X_train), y_train)\n",
    "print('MSE = ',mean_squared_error(y_test, lasso.predict(scale(X_test))))"
   ]
  },
  {
   "cell_type": "code",
   "execution_count": 26,
   "metadata": {},
   "outputs": [
    {
     "data": {
      "text/plain": [
       "AtBat            0.000000\n",
       "Hits             0.000000\n",
       "HmRun            2.154219\n",
       "Runs             0.000000\n",
       "RBI             30.835560\n",
       "Walks          104.071528\n",
       "Years           -0.000000\n",
       "CAtBat           0.000000\n",
       "CHits            0.000000\n",
       "CHmRun           0.000000\n",
       "CRuns          132.858095\n",
       "CRBI             0.000000\n",
       "CWalks           0.000000\n",
       "PutOuts          1.896185\n",
       "Assists        -51.058752\n",
       "Errors          76.779641\n",
       "League_N         0.000000\n",
       "Division_W       0.000000\n",
       "NewLeague_N      0.000000\n",
       "dtype: float64"
      ]
     },
     "execution_count": 26,
     "metadata": {},
     "output_type": "execute_result"
    }
   ],
   "source": [
    "# Some of the coefficients are now reduced to exactly zero.\n",
    "pd.Series(lasso.coef_, index=X.columns)"
   ]
  },
  {
   "cell_type": "markdown",
   "metadata": {},
   "source": [
    "### (c) Fit a LASSO model (using glmnet)"
   ]
  },
  {
   "cell_type": "code",
   "execution_count": 27,
   "metadata": {},
   "outputs": [
    {
     "data": {
      "image/png": "[encoded data removed]",
      "text/plain": [
       "<Figure size 720x432 with 1 Axes>"
      ]
     },
     "metadata": {},
     "output_type": "display_data"
    }
   ],
   "source": [
    "# Fit the Ridge model for all choices of lambda\n",
    "# Note: Recall that Ridge  = Elastic Net w/ alpha = 1\n",
    "lasso2 = gln.ElasticNet(alpha=1, lambda_path=grid, scoring='mean_squared_error', n_splits=10)\n",
    "lasso2.fit(X_train, y_train.values.ravel())\n",
    "l1_norm = np.sum(np.abs(lasso2.coef_path_), axis=0)\n",
    "\n",
    "plt.figure(figsize=(10,6))\n",
    "plt.plot(l1_norm, lasso2.coef_path_.T)\n",
    "plt.xlabel('L1 norm')\n",
    "plt.ylabel('Coefficients');"
   ]
  },
  {
   "cell_type": "code",
   "execution_count": 28,
   "metadata": {},
   "outputs": [
    {
     "data": {
      "image/png": "[encoded data removed]",
      "text/plain": [
       "<Figure size 1080x432 with 1 Axes>"
      ]
     },
     "metadata": {},
     "output_type": "display_data"
    }
   ],
   "source": [
    "#Let glmnet() create a grid to use in CV\n",
    "lasso3 = gln.ElasticNet(alpha=1, scoring='mean_squared_error', n_splits=10)\n",
    "lasso3.fit(X_train, y_train.values.ravel())\n",
    "plt.figure(figsize=(15,6))\n",
    "plt.errorbar(np.log(lasso3.lambda_path_), -lasso3.cv_mean_score_, color='r', linestyle='None', marker='o',\n",
    "             markersize=5, yerr=lasso3.cv_standard_error_, ecolor='lightgrey', capsize=4)\n",
    "\n",
    "for ref, txt in zip([lasso3.lambda_best_, lasso3.lambda_max_], ['Lambda best', 'Lambda max']):\n",
    "    plt.axvline(x=np.log(ref), linestyle='dashed', color='lightgrey')\n",
    "    plt.text(np.log(ref), .95*plt.gca().get_ylim()[1], txt, ha='center')\n",
    "\n",
    "plt.xlabel('log(Lambda)')\n",
    "plt.ylabel('Mean-Squared Error');"
   ]
  },
  {
   "cell_type": "code",
   "execution_count": 29,
   "metadata": {},
   "outputs": [
    {
     "name": "stdout",
     "output_type": "stream",
     "text": [
      "MSE =  101294.328523177\n"
     ]
    }
   ],
   "source": [
    "pred = lasso3.predict(X_test, lamb=lasso3.lambda_max_)\n",
    "print('MSE = ',mean_squared_error(y_test, pred))"
   ]
  },
  {
   "cell_type": "code",
   "execution_count": 30,
   "metadata": {},
   "outputs": [
    {
     "data": {
      "text/plain": [
       "AtBat           -1.321629\n",
       "Hits             5.168316\n",
       "HmRun            0.000000\n",
       "Runs             0.000000\n",
       "RBI              0.000000\n",
       "Walks            4.320427\n",
       "Years           -8.161760\n",
       "CAtBat           0.000000\n",
       "CHits            0.000000\n",
       "CHmRun           0.425041\n",
       "CRuns            0.582448\n",
       "CRBI             0.398480\n",
       "CWalks          -0.434668\n",
       "PutOuts          0.266217\n",
       "Assists          0.129877\n",
       "Errors          -1.673647\n",
       "League_N        30.707794\n",
       "Division_W    -119.069986\n",
       "NewLeague_N      0.000000\n",
       "dtype: float64"
      ]
     },
     "execution_count": 30,
     "metadata": {},
     "output_type": "execute_result"
    }
   ],
   "source": [
    "# Fit model to entire dataset\n",
    "lasso4 = gln.ElasticNet(alpha=1, lambda_path=grid, scoring='mean_squared_error', n_splits=10)\n",
    "lasso4.fit(X, y)\n",
    "pd.Series(lasso4.coef_path_[:,lasso4.lambda_max_inx_], index=X.columns)"
   ]
  },
  {
   "cell_type": "markdown",
   "metadata": {},
   "source": [
    "## $\\color{blue}{\\text{Simple LASSO (almost automatic)}}$"
   ]
  },
  {
   "cell_type": "code",
   "execution_count": 31,
   "metadata": {},
   "outputs": [
    {
     "name": "stdout",
     "output_type": "stream",
     "text": [
      "[(0.0, 'AtBat'), (0.0, 'Hits'), (2.154218984758508, 'HmRun'), (0.0, 'Runs'), (30.83555951721413, 'RBI'), (104.07152805084242, 'Walks'), (-0.0, 'Years'), (0.0, 'CAtBat'), (0.0, 'CHits'), (0.0, 'CHmRun'), (132.85809529141193, 'CRuns'), (0.0, 'CRBI'), (0.0, 'CWalks'), (1.8961849090207357, 'PutOuts'), (-51.058751654587645, 'Assists'), (76.77964130536249, 'Errors'), (0.0, 'League_N'), (0.0, 'Division_W'), (0.0, 'NewLeague_N')]\n",
      "R^2 Training Set 41.12\n",
      "R^2 Test Set 46.58\n"
     ]
    }
   ],
   "source": [
    "# Step 1: Use CV to get the best alpha\n",
    "lassocv = LassoCV(alphas=None, cv=10, max_iter=10000)\n",
    "lassocv.fit(scale(X_train), y_train.values.ravel())\n",
    "\n",
    "# Step 2: Estimate the model w/ best alpha\n",
    "lasso_best = Lasso(alpha=lassocv.alpha_)\n",
    "lasso_best.fit(scale(X_train), y_train)\n",
    "\n",
    "# Step 3: Print model estimates\n",
    "print(list(zip(lasso_best.coef_, X)))\n",
    "\n",
    "# Step 4: Print Error Metrics\n",
    "print('R^2 Training Set', round(lasso_best.score(scale(X_train), y_train)*100, 2))\n",
    "print('R^2 Test Set', round(lasso_best.score(scale(X_test), y_test)*100, 2))"
   ]
  },
  {
   "cell_type": "code",
   "execution_count": 32,
   "metadata": {},
   "outputs": [
    {
     "data": {
      "image/png": "[encoded data removed]",
      "text/plain": [
       "<Figure size 504x504 with 1 Axes>"
      ]
     },
     "metadata": {},
     "output_type": "display_data"
    }
   ],
   "source": [
    "# Figure adapted from: \n",
    "#https://www.kirenz.com/post/2019-08-12-python-lasso-regression-auto/\n",
    "\n",
    "model = lassocv\n",
    "plt.figure(figsize=(7, 7))\n",
    "plt.semilogx(model.alphas_, model.mse_path_, \":\")\n",
    "plt.plot(\n",
    "    model.alphas_ ,\n",
    "    model.mse_path_.mean(axis=-1),\n",
    "    \"k\",\n",
    "    label=\"Average across the folds\",\n",
    "    linewidth=2,\n",
    ")\n",
    "plt.axvline(\n",
    "    model.alpha_, linestyle=\"--\", color=\"k\", label=\"alpha: CV estimate\"\n",
    ")\n",
    "\n",
    "plt.legend()\n",
    "plt.xlabel(\"alphas\")\n",
    "plt.ylabel(\"Mean square error\")\n",
    "plt.title(\"Mean square error on each fold\")\n",
    "plt.axis(\"tight\")\n",
    "\n",
    "ymin, ymax = 20000, 450000\n",
    "plt.ylim(ymin, ymax);\n",
    "\n"
   ]
  },
  {
   "cell_type": "markdown",
   "metadata": {},
   "source": [
    "## $\\color{blue}{\\text{Simple Elastic Net (almost automatic)}}$"
   ]
  },
  {
   "cell_type": "code",
   "execution_count": 33,
   "metadata": {},
   "outputs": [
    {
     "name": "stdout",
     "output_type": "stream",
     "text": [
      "[(8.059480874304844, 'AtBat'), (22.45444074423237, 'Hits'), (18.64049489338871, 'HmRun'), (20.16720163282034, 'Runs'), (21.029466624476473, 'RBI'), (54.83811319172766, 'Walks'), (-2.948150006543679, 'Years'), (20.10753082399901, 'CAtBat'), (28.57674082599617, 'CHits'), (14.10759320213763, 'CHmRun'), (35.09469800682518, 'CRuns'), (19.895377465575088, 'CRBI'), (24.058891725904278, 'CWalks'), (15.591533403859403, 'PutOuts'), (-42.88162271065065, 'Assists'), (53.472176251924886, 'Errors'), (5.228508267855586, 'League_N'), (0.0, 'Division_W'), (10.779613757792495, 'NewLeague_N')]\n",
      "R^2 Training Set 38.92\n",
      "R^2 Test Set 49.32\n"
     ]
    }
   ],
   "source": [
    "# Step 1: Use CV to get the best alpha\n",
    "enetcv = ElasticNetCV(cv=10, max_iter=10000)\n",
    "enetcv.fit(scale(X_train), y_train.values.ravel())\n",
    "\n",
    "# Step 2: Estimate the model w/ best alpha\n",
    "enet_best = ElasticNet(alpha=enetcv.alpha_)\n",
    "enet_best.fit(scale(X_train), y_train)\n",
    "\n",
    "# Step 3: Print model estimates\n",
    "print(list(zip(enet_best.coef_, X)))\n",
    "\n",
    "# Step 4: Print Error Metrics\n",
    "print('R^2 Training Set', round(enet_best.score(scale(X_train), y_train)*100, 2))\n",
    "print('R^2 Test Set', round(enet_best.score(scale(X_test), y_test)*100, 2))"
   ]
  },
  {
   "cell_type": "markdown",
   "metadata": {},
   "source": [
    "## II. Examples PCA and Partial Regression"
   ]
  },
  {
   "cell_type": "markdown",
   "metadata": {},
   "source": [
    "## PCA Example\n",
    "Note: Scikit-klearn does not have an implementation of PCA and regression combined like the 'pls' package in R"
   ]
  },
  {
   "cell_type": "markdown",
   "metadata": {},
   "source": [
    "### (a) Loadings"
   ]
  },
  {
   "cell_type": "code",
   "execution_count": 34,
   "metadata": {},
   "outputs": [
    {
     "name": "stdout",
     "output_type": "stream",
     "text": [
      "(19, 19)\n"
     ]
    },
    {
     "data": {
      "text/html": [
       "<div>\n",
       "<style scoped>\n",
       "    .dataframe tbody tr th:only-of-type {\n",
       "        vertical-align: middle;\n",
       "    }\n",
       "\n",
       "    .dataframe tbody tr th {\n",
       "        vertical-align: top;\n",
       "    }\n",
       "\n",
       "    .dataframe thead th {\n",
       "        text-align: right;\n",
       "    }\n",
       "</style>\n",
       "<table border=\"1\" class=\"dataframe\">\n",
       "  <thead>\n",
       "    <tr style=\"text-align: right;\">\n",
       "      <th></th>\n",
       "      <th>0</th>\n",
       "      <th>1</th>\n",
       "      <th>2</th>\n",
       "      <th>3</th>\n",
       "      <th>4</th>\n",
       "      <th>5</th>\n",
       "    </tr>\n",
       "  </thead>\n",
       "  <tbody>\n",
       "    <tr>\n",
       "      <th>0</th>\n",
       "      <td>0.198290</td>\n",
       "      <td>-0.383784</td>\n",
       "      <td>0.088626</td>\n",
       "      <td>0.031967</td>\n",
       "      <td>0.028117</td>\n",
       "      <td>-0.070646</td>\n",
       "    </tr>\n",
       "    <tr>\n",
       "      <th>1</th>\n",
       "      <td>0.195861</td>\n",
       "      <td>-0.377271</td>\n",
       "      <td>0.074032</td>\n",
       "      <td>0.017982</td>\n",
       "      <td>-0.004652</td>\n",
       "      <td>-0.082240</td>\n",
       "    </tr>\n",
       "    <tr>\n",
       "      <th>2</th>\n",
       "      <td>0.204369</td>\n",
       "      <td>-0.237136</td>\n",
       "      <td>-0.216186</td>\n",
       "      <td>-0.235831</td>\n",
       "      <td>0.077660</td>\n",
       "      <td>-0.149646</td>\n",
       "    </tr>\n",
       "    <tr>\n",
       "      <th>3</th>\n",
       "      <td>0.198337</td>\n",
       "      <td>-0.377721</td>\n",
       "      <td>-0.017166</td>\n",
       "      <td>-0.049942</td>\n",
       "      <td>-0.038536</td>\n",
       "      <td>-0.136660</td>\n",
       "    </tr>\n",
       "    <tr>\n",
       "      <th>4</th>\n",
       "      <td>0.235174</td>\n",
       "      <td>-0.314531</td>\n",
       "      <td>-0.073085</td>\n",
       "      <td>-0.138985</td>\n",
       "      <td>0.024299</td>\n",
       "      <td>-0.111675</td>\n",
       "    </tr>\n",
       "  </tbody>\n",
       "</table>\n",
       "</div>"
      ],
      "text/plain": [
       "          0         1         2         3         4         5\n",
       "0  0.198290 -0.383784  0.088626  0.031967  0.028117 -0.070646\n",
       "1  0.195861 -0.377271  0.074032  0.017982 -0.004652 -0.082240\n",
       "2  0.204369 -0.237136 -0.216186 -0.235831  0.077660 -0.149646\n",
       "3  0.198337 -0.377721 -0.017166 -0.049942 -0.038536 -0.136660\n",
       "4  0.235174 -0.314531 -0.073085 -0.138985  0.024299 -0.111675"
      ]
     },
     "execution_count": 34,
     "metadata": {},
     "output_type": "execute_result"
    }
   ],
   "source": [
    "pca = PCA()\n",
    "X_reduced = pca.fit_transform(scale(X))\n",
    "\n",
    "print(pca.components_.shape)  #   Loadings\n",
    "pd.DataFrame(pca.components_.T).loc[:4,:5]"
   ]
  },
  {
   "cell_type": "markdown",
   "metadata": {},
   "source": [
    "### (b) Principal Components"
   ]
  },
  {
   "cell_type": "code",
   "execution_count": 35,
   "metadata": {},
   "outputs": [
    {
     "name": "stdout",
     "output_type": "stream",
     "text": [
      "(263, 19)\n"
     ]
    },
    {
     "data": {
      "text/html": [
       "<div>\n",
       "<style scoped>\n",
       "    .dataframe tbody tr th:only-of-type {\n",
       "        vertical-align: middle;\n",
       "    }\n",
       "\n",
       "    .dataframe tbody tr th {\n",
       "        vertical-align: top;\n",
       "    }\n",
       "\n",
       "    .dataframe thead th {\n",
       "        text-align: right;\n",
       "    }\n",
       "</style>\n",
       "<table border=\"1\" class=\"dataframe\">\n",
       "  <thead>\n",
       "    <tr style=\"text-align: right;\">\n",
       "      <th></th>\n",
       "      <th>0</th>\n",
       "      <th>1</th>\n",
       "      <th>2</th>\n",
       "      <th>3</th>\n",
       "      <th>4</th>\n",
       "      <th>5</th>\n",
       "    </tr>\n",
       "  </thead>\n",
       "  <tbody>\n",
       "    <tr>\n",
       "      <th>0</th>\n",
       "      <td>-0.009649</td>\n",
       "      <td>1.870522</td>\n",
       "      <td>1.265145</td>\n",
       "      <td>-0.935481</td>\n",
       "      <td>1.109636</td>\n",
       "      <td>1.211972</td>\n",
       "    </tr>\n",
       "    <tr>\n",
       "      <th>1</th>\n",
       "      <td>0.411434</td>\n",
       "      <td>-2.429422</td>\n",
       "      <td>-0.909193</td>\n",
       "      <td>-0.264212</td>\n",
       "      <td>1.232031</td>\n",
       "      <td>1.826617</td>\n",
       "    </tr>\n",
       "    <tr>\n",
       "      <th>2</th>\n",
       "      <td>3.466822</td>\n",
       "      <td>0.825947</td>\n",
       "      <td>0.555469</td>\n",
       "      <td>-1.616726</td>\n",
       "      <td>-0.857488</td>\n",
       "      <td>-1.028712</td>\n",
       "    </tr>\n",
       "    <tr>\n",
       "      <th>3</th>\n",
       "      <td>-2.558317</td>\n",
       "      <td>-0.230984</td>\n",
       "      <td>0.519642</td>\n",
       "      <td>-2.176251</td>\n",
       "      <td>-0.820301</td>\n",
       "      <td>1.491696</td>\n",
       "    </tr>\n",
       "    <tr>\n",
       "      <th>4</th>\n",
       "      <td>1.027702</td>\n",
       "      <td>-1.573537</td>\n",
       "      <td>1.331382</td>\n",
       "      <td>3.494004</td>\n",
       "      <td>0.983427</td>\n",
       "      <td>0.513675</td>\n",
       "    </tr>\n",
       "  </tbody>\n",
       "</table>\n",
       "</div>"
      ],
      "text/plain": [
       "          0         1         2         3         4         5\n",
       "0 -0.009649  1.870522  1.265145 -0.935481  1.109636  1.211972\n",
       "1  0.411434 -2.429422 -0.909193 -0.264212  1.232031  1.826617\n",
       "2  3.466822  0.825947  0.555469 -1.616726 -0.857488 -1.028712\n",
       "3 -2.558317 -0.230984  0.519642 -2.176251 -0.820301  1.491696\n",
       "4  1.027702 -1.573537  1.331382  3.494004  0.983427  0.513675"
      ]
     },
     "execution_count": 35,
     "metadata": {},
     "output_type": "execute_result"
    }
   ],
   "source": [
    "print(X_reduced.shape) #   Principal Components\n",
    "pd.DataFrame(X_reduced).loc[:4,:5]"
   ]
  },
  {
   "cell_type": "markdown",
   "metadata": {},
   "source": [
    "### (c) Variance explained by the PCs"
   ]
  },
  {
   "cell_type": "markdown",
   "metadata": {},
   "source": [
    "marginal increase results in tradeoff of interpretability, I'd choose 96.2 or 97."
   ]
  },
  {
   "cell_type": "code",
   "execution_count": 36,
   "metadata": {},
   "outputs": [
    {
     "data": {
      "text/plain": [
       "array([38.31, 60.15, 70.84, 79.03, 84.29, 88.63, 92.26, 94.96, 96.28,\n",
       "       97.25, 97.97, 98.64, 99.14, 99.46, 99.73, 99.88, 99.95, 99.98,\n",
       "       99.99])"
      ]
     },
     "execution_count": 36,
     "metadata": {},
     "output_type": "execute_result"
    }
   ],
   "source": [
    "np.cumsum(np.round(pca.explained_variance_ratio_, decimals=4)*100)"
   ]
  },
  {
   "cell_type": "markdown",
   "metadata": {},
   "source": [
    "### (d) PCA using CV with Shuffle"
   ]
  },
  {
   "cell_type": "code",
   "execution_count": 37,
   "metadata": {},
   "outputs": [
    {
     "data": {
      "text/plain": [
       "<matplotlib.legend.Legend at 0x7fc07f3b1370>"
      ]
     },
     "execution_count": 37,
     "metadata": {},
     "output_type": "execute_result"
    },
    {
     "data": {
      "image/png": "[encoded data removed]",
      "text/plain": [
       "<Figure size 504x504 with 1 Axes>"
      ]
     },
     "metadata": {},
     "output_type": "display_data"
    }
   ],
   "source": [
    "# 10-fold CV, with shuffle\n",
    "n = len(X_reduced)\n",
    "kf_10 = KFold(n_splits=10, shuffle=True, random_state=1)\n",
    "\n",
    "regr = LinearRegression()\n",
    "mse = []\n",
    "\n",
    "# Calculate MSE with only the intercept (no principal components in regression)\n",
    "score = -1*cross_val_score(regr, np.ones((n,1)), y.ravel(), cv=kf_10, scoring='neg_mean_squared_error').mean()    \n",
    "mse.append(score)\n",
    "\n",
    "# Calculate MSE using CV for the 19 principle components, adding one component at the time.\n",
    "for i in np.arange(1, 20):\n",
    "    score = -1*cross_val_score(regr, X_reduced[:,:i], y.ravel(), cv=kf_10, scoring='neg_mean_squared_error').mean()\n",
    "    mse.append(score)\n",
    "plt.figure(figsize=(7, 7))    \n",
    "plt.plot(mse, '-o')\n",
    "plt.xlabel('Number of principal components in the regression')\n",
    "plt.ylabel('MSE')\n",
    "plt.title('Salary')\n",
    "plt.xlim(xmin=-1);\n",
    "plt.axvline(18, linestyle=\"--\", color=\"r\", label=\"Lowest MSE (18 components)\")\n",
    "plt.legend(loc='center')"
   ]
  },
  {
   "cell_type": "code",
   "execution_count": 38,
   "metadata": {},
   "outputs": [
    {
     "data": {
      "text/plain": [
       "array([ 106.36859204,  -21.60350456,   24.2942534 ,  -36.9858579 ,\n",
       "        -58.41402748,   62.20632652,   24.63862038,   15.82817701,\n",
       "         29.57680773,   99.64801199,  -30.11209105,   20.99269291,\n",
       "         72.40210574, -276.68551696,  -74.17098665,  422.72580227,\n",
       "       -347.05662353, -561.59691587,  -83.25441536])"
      ]
     },
     "execution_count": 38,
     "metadata": {},
     "output_type": "execute_result"
    }
   ],
   "source": [
    "regr_test = LinearRegression()\n",
    "regr_test.fit(X_reduced, y)\n",
    "regr_test.coef_"
   ]
  },
  {
   "cell_type": "markdown",
   "metadata": {},
   "source": [
    "### (e) PCA with Training Data"
   ]
  },
  {
   "cell_type": "markdown",
   "metadata": {},
   "source": [
    "scale function properly normalizes the variables"
   ]
  },
  {
   "cell_type": "code",
   "execution_count": 39,
   "metadata": {},
   "outputs": [
    {
     "data": {
      "image/png": "[encoded data removed]",
      "text/plain": [
       "<Figure size 504x504 with 1 Axes>"
      ]
     },
     "metadata": {},
     "output_type": "display_data"
    }
   ],
   "source": [
    "pca2 = PCA()\n",
    "X_reduced_train = pca2.fit_transform(scale(X_train))\n",
    "n = len(X_reduced_train)\n",
    "\n",
    "# 10-fold CV, with shuffle\n",
    "kf_10 = KFold(n_splits=10, shuffle=True, random_state=1)\n",
    "\n",
    "mse = []\n",
    "\n",
    "# Calculate MSE with only the intercept (no principal components in regression)\n",
    "score = -1*cross_val_score(regr, np.ones((n,1)), y_train, cv=kf_10, scoring='neg_mean_squared_error').mean()    \n",
    "mse.append(score)\n",
    "\n",
    "# Calculate MSE using CV for the 19 PCs, adding one component at the time.\n",
    "for i in np.arange(1, 20):\n",
    "    score = -1*cross_val_score(regr, X_reduced_train[:,:i], y_train, cv=kf_10, scoring='neg_mean_squared_error').mean()\n",
    "    mse.append(score)\n",
    "plt.figure(figsize=(7, 7))  \n",
    "plt.plot(np.array(mse), '-v')\n",
    "plt.xlabel('Number of principal components in regression')\n",
    "plt.ylabel('MSE')\n",
    "plt.title('Salary')\n",
    "plt.axvline(6, linestyle=\"--\", color=\"r\", label=\"Lowest MSE (6 components)\")\n",
    "plt.legend(loc='best')\n",
    "plt.xlim(xmin=-1);"
   ]
  },
  {
   "cell_type": "code",
   "execution_count": 40,
   "metadata": {},
   "outputs": [
    {
     "data": {
      "text/plain": [
       "96320.02078250323"
      ]
     },
     "execution_count": 40,
     "metadata": {},
     "output_type": "execute_result"
    }
   ],
   "source": [
    "X_reduced_test = pca2.transform(scale(X_test))[:,:7]\n",
    "\n",
    "# Train regression model on training data \n",
    "regr = LinearRegression()\n",
    "regr.fit(X_reduced_train[:,:7], y_train)\n",
    "\n",
    "# Prediction with test data\n",
    "pred = regr.predict(X_reduced_test)\n",
    "mean_squared_error(y_test, pred)"
   ]
  },
  {
   "cell_type": "markdown",
   "metadata": {},
   "source": [
    "## III. Example of Partial Least Squares (PLS)"
   ]
  },
  {
   "cell_type": "code",
   "execution_count": 50,
   "metadata": {},
   "outputs": [
    {
     "data": {
      "image/png": "[encoded data removed]",
      "text/plain": [
       "<Figure size 432x288 with 1 Axes>"
      ]
     },
     "metadata": {},
     "output_type": "display_data"
    }
   ],
   "source": [
    "n = len(X_train)\n",
    "\n",
    "# 10-fold CV, with shuffle\n",
    "kf_10 = KFold(n_splits=10, shuffle=True, random_state=0)\n",
    "\n",
    "mse = []\n",
    "\n",
    "for i in np.arange(1, 20):\n",
    "    pls = PLSRegression(n_components=i)\n",
    "    score = cross_val_score(pls, scale(X_train), y_train, cv=kf_10, scoring='neg_mean_squared_error').mean()\n",
    "    mse.append(-score)\n",
    "\n",
    "plt.plot(np.arange(1, 20), np.array(mse), '-v')\n",
    "plt.xlabel('Number of principal components in regression')\n",
    "plt.ylabel('MSE')\n",
    "plt.title('Salary')\n",
    "plt.xlim(xmin=-1);"
   ]
  },
  {
   "cell_type": "code",
   "execution_count": 42,
   "metadata": {},
   "outputs": [
    {
     "data": {
      "text/plain": [
       "102234.27995999216"
      ]
     },
     "execution_count": 42,
     "metadata": {},
     "output_type": "execute_result"
    }
   ],
   "source": [
    "pls = PLSRegression(n_components=2)\n",
    "pls.fit(scale(X_train), y_train)\n",
    "\n",
    "mean_squared_error(y_test, pls.predict(scale(X_test)))"
   ]
  },
  {
   "cell_type": "markdown",
   "metadata": {},
   "source": [
    "good to run test errors and compare with training, but its not a one to one comparison. use test mse"
   ]
  },
  {
   "cell_type": "markdown",
   "metadata": {},
   "source": [
    "##  IV. Example of PCA using the Iris Dataset\n",
    "Example adapted from [M. Galarnik](https://medium.com/@GalarnykMichael)."
   ]
  },
  {
   "cell_type": "code",
   "execution_count": 43,
   "metadata": {},
   "outputs": [],
   "source": [
    "import pandas as pd\n",
    "# Load data from UCI's archive\n",
    "url = \"https://archive.ics.uci.edu/ml/machine-learning-databases/iris/iris.data\"\n",
    "# load dataset into Pandas DataFrame\n",
    "df = pd.read_csv(url, names=['sepal length','sepal width','petal length','petal width','target'])"
   ]
  },
  {
   "cell_type": "markdown",
   "metadata": {},
   "source": [
    "### (a) Standardize the features"
   ]
  },
  {
   "cell_type": "code",
   "execution_count": 44,
   "metadata": {},
   "outputs": [],
   "source": [
    "from sklearn.preprocessing import StandardScaler\n",
    "features = ['sepal length', 'sepal width', 'petal length', 'petal width']\n",
    "\n",
    "# Separating out the features\n",
    "x = df.loc[:, features].values\n",
    "\n",
    "# Separating out the target\n",
    "y = df.loc[:,['target']].values\n",
    "\n",
    "# Standardizing the features\n",
    "x = StandardScaler().fit_transform(x)"
   ]
  },
  {
   "cell_type": "markdown",
   "metadata": {},
   "source": [
    "###  (b) PCA Estimates: Project 4D (4 features) $\\ \\rightarrow$  2D (2 PCs)"
   ]
  },
  {
   "cell_type": "code",
   "execution_count": 45,
   "metadata": {},
   "outputs": [],
   "source": [
    "from sklearn.decomposition import PCA\n",
    "pca = PCA(n_components=2)\n",
    "principalComponents = pca.fit_transform(x)\n",
    "principalDf = pd.DataFrame(data = principalComponents\n",
    "             , columns = ['principal component 1', 'principal component 2'])\n",
    "finalDf = pd.concat([principalDf, df[['target']]], axis = 1)"
   ]
  },
  {
   "cell_type": "markdown",
   "metadata": {},
   "source": [
    "### (c) Display the PCs"
   ]
  },
  {
   "cell_type": "code",
   "execution_count": 46,
   "metadata": {},
   "outputs": [
    {
     "data": {
      "image/png": "[encoded data removed]",
      "text/plain": [
       "<Figure size 504x504 with 1 Axes>"
      ]
     },
     "metadata": {},
     "output_type": "display_data"
    }
   ],
   "source": [
    "fig = plt.figure(figsize = (7,7))\n",
    "ax = fig.add_subplot(1,1,1) \n",
    "ax.set_xlabel('PC 1', fontsize = 15)\n",
    "ax.set_ylabel('PC 2', fontsize = 15)\n",
    "ax.set_title('Two Component PCA Projection', fontsize = 20)\n",
    "targets = ['Iris-setosa', 'Iris-versicolor', 'Iris-virginica']\n",
    "colors = ['r', 'g', 'b']\n",
    "for target, color in zip(targets,colors):\n",
    "    indicesToKeep = finalDf['target'] == target\n",
    "    ax.scatter(finalDf.loc[indicesToKeep, 'principal component 1']\n",
    "               , finalDf.loc[indicesToKeep, 'principal component 2']\n",
    "               , c = color\n",
    "               , s = 50)\n",
    "ax.legend(targets)\n",
    "ax.grid()"
   ]
  },
  {
   "cell_type": "markdown",
   "metadata": {},
   "source": [
    "### (d) Explained Variance by the PCs"
   ]
  },
  {
   "cell_type": "code",
   "execution_count": 47,
   "metadata": {},
   "outputs": [
    {
     "data": {
      "text/plain": [
       "array([0.72770452, 0.23030523])"
      ]
     },
     "execution_count": 47,
     "metadata": {},
     "output_type": "execute_result"
    }
   ],
   "source": [
    "pca.explained_variance_ratio_"
   ]
  }
 ],
 "metadata": {
  "kernelspec": {
   "display_name": "Python 3 (ipykernel)",
   "language": "python",
   "name": "python3"
  },
  "language_info": {
   "codemirror_mode": {
    "name": "ipython",
    "version": 3
   },
   "file_extension": ".py",
   "mimetype": "text/x-python",
   "name": "python",
   "nbconvert_exporter": "python",
   "pygments_lexer": "ipython3",
   "version": "3.9.7"
  },
  "latex_envs": {
   "LaTeX_envs_menu_present": true,
   "autoclose": false,
   "autocomplete": true,
   "bibliofile": "biblio.bib",
   "cite_by": "apalike",
   "current_citInitial": 1,
   "eqLabelWithNumbers": true,
   "eqNumInitial": 1,
   "hotkeys": {
    "equation": "Ctrl-E",
    "itemize": "Ctrl-I"
   },
   "labels_anchors": false,
   "latex_user_defs": false,
   "report_style_numbering": false,
   "user_envs_cfg": false
  },
  "varInspector": {
   "cols": {
    "lenName": 16,
    "lenType": 16,
    "lenVar": 40
   },
   "kernels_config": {
    "python": {
     "delete_cmd_postfix": "",
     "delete_cmd_prefix": "del ",
     "library": "var_list.py",
     "varRefreshCmd": "print(var_dic_list())"
    },
    "r": {
     "delete_cmd_postfix": ") ",
     "delete_cmd_prefix": "rm(",
     "library": "var_list.r",
     "varRefreshCmd": "cat(var_dic_list()) "
    }
   },
   "types_to_exclude": [
    "module",
    "function",
    "builtin_function_or_method",
    "instance",
    "_Feature"
   ],
   "window_display": false
  }
 },
 "nbformat": 4,
 "nbformat_minor": 4
}
